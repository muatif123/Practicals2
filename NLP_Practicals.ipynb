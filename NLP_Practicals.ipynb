{
 "cells": [
  {
   "cell_type": "markdown",
   "id": "32c4b59c",
   "metadata": {},
   "source": [
    "#### 1. Write a program to implement Sentence Segmentation & Word Tokenization"
   ]
  },
  {
   "cell_type": "code",
   "execution_count": 3,
   "id": "51cfe738",
   "metadata": {},
   "outputs": [
    {
     "name": "stderr",
     "output_type": "stream",
     "text": [
      "C:\\Users\\91773\\anaconda3\\lib\\site-packages\\scipy\\__init__.py:155: UserWarning: A NumPy version >=1.18.5 and <1.25.0 is required for this version of SciPy (detected version 1.26.4\n",
      "  warnings.warn(f\"A NumPy version >={np_minversion} and <{np_maxversion}\"\n"
     ]
    },
    {
     "name": "stdout",
     "output_type": "stream",
     "text": [
      "The words are ['God', 'is', 'Great', '!', 'I', 'won', 'a', 'lottery', '.']\n",
      "The sentences are ['God is Great!', 'I won a lottery.']\n"
     ]
    }
   ],
   "source": [
    "#pip intall nltk\n",
    "#py -m pip install --upgrade pip\n",
    "#nltk.download('punkt') #nltk.download('wordnet')\n",
    "from nltk.tokenize import word_tokenize\n",
    "text=\"God is Great! I won a lottery.\"\n",
    "print(\"The words are\",word_tokenize(text))\n",
    "from nltk.tokenize import sent_tokenize \n",
    "text=\"God is Great! I won a lottery.\"\n",
    "print(\"The sentences are\",sent_tokenize(text))"
   ]
  },
  {
   "cell_type": "markdown",
   "id": "a6640383",
   "metadata": {},
   "source": [
    "#### 2.Write a program to Implementstemming and lemmatization"
   ]
  },
  {
   "cell_type": "code",
   "execution_count": 11,
   "id": "7f70b2df",
   "metadata": {},
   "outputs": [
    {
     "ename": "SyntaxError",
     "evalue": "invalid syntax (3998998459.py, line 44)",
     "output_type": "error",
     "traceback": [
      "\u001b[1;36m  File \u001b[1;32m\"C:\\Users\\91773\\AppData\\Local\\Temp\\ipykernel_29892\\3998998459.py\"\u001b[1;36m, line \u001b[1;32m44\u001b[0m\n\u001b[1;33m    break else:\u001b[0m\n\u001b[1;37m          ^\u001b[0m\n\u001b[1;31mSyntaxError\u001b[0m\u001b[1;31m:\u001b[0m invalid syntax\n"
     ]
    }
   ],
   "source": [
    "import nltk\n",
    "nltk.download('averaged_perceptron_tagger')\n",
    "from nltk.stem import PorterStemmer \n",
    "from nltk.stem import SnowballStemmer \n",
    "from nltk.stem import LancasterStemmer\n",
    "\n",
    "words=['run','runner','running','ran','runs','easily','caring']\n",
    "\n",
    "def portstemming(words):\n",
    "    ps=PorterStemmer()\n",
    "    print(\"Porter Stemmer\") \n",
    "    for word in words:\n",
    "        print(word,' >',ps.stem(word))\n",
    "        \n",
    "def snowballstemming(words):\n",
    "    snowball=SnowballStemmer(language='english')\n",
    "    print(\"Snowball Stemmer\")\n",
    "    for word in words:\n",
    "        print(word,' >',snowball.stem(word))\n",
    "\n",
    "def lancasterstemming(words):\n",
    "    lancaster=LancasterStemmer()\n",
    "    print(\"Lancaster Stemmer\") \n",
    "    for word in words:\n",
    "        print(word,' >',lancaster.stem(word))\n",
    "\n",
    "print(\"Select Operation.\")\n",
    "print(\"1.Porter Stemmer\")\n",
    "print(\"2.Snowball Stemmer\")\n",
    "print(\"3.Lancaster Stemmer\")\n",
    "\n",
    "\n",
    "choice=input('Enter Choice(1/2/3):') \n",
    "if choice in ('1','2','3'):\n",
    "    if choice == '1':\n",
    "        print(portstemming(words))\n",
    "    elif choice == '2':\n",
    "        print(snowballstemming(words))\n",
    "    elif choice == '3':\n",
    "        print(lancasterstemming(words))\n",
    "\n",
    "next_calculation = input(\"Do you want to do stemming again? (yes/no):\") \n",
    "if next_calculation== \"no\":\n",
    "    print('Invalid input')\n",
    "        "
   ]
  },
  {
   "cell_type": "markdown",
   "id": "5543e0a9",
   "metadata": {},
   "source": [
    "#### 3. Write a program to Implement a tri-gram model"
   ]
  },
  {
   "cell_type": "code",
   "execution_count": 14,
   "id": "9ecfab89",
   "metadata": {},
   "outputs": [
    {
     "name": "stderr",
     "output_type": "stream",
     "text": [
      "[nltk_data] Downloading package punkt to\n",
      "[nltk_data]     C:\\Users\\91773\\AppData\\Roaming\\nltk_data...\n",
      "[nltk_data]   Package punkt is already up-to-date!\n"
     ]
    },
    {
     "name": "stdout",
     "output_type": "stream",
     "text": [
      "\n",
      " Sample Tokens: ['asbdjahsbdjhabsdhjahjsdbhjabsdh']\n",
      "\n",
      " Type of Sample Tokens: <class 'list'>\n",
      "\n",
      " Length of Sample Tokens: 1\n",
      "\n",
      "                             Tokens  Frequency\n",
      "0  asbdjahsbdjhabsdhjahjsdbhjabsdh          1\n",
      "\n",
      " Bigrams: []\n",
      "\n",
      "Trigrams: []\n",
      "\n",
      " Ngrams(4): []\n"
     ]
    }
   ],
   "source": [
    "import nltk\n",
    "nltk.download('punkt')\n",
    "from nltk.tokenize import word_tokenize\n",
    "from nltk import FreqDist\n",
    "import pandas as pd\n",
    "f = open('abc.txt')\n",
    "sample = f.read()\n",
    "sample_tokens = nltk.word_tokenize(sample)\n",
    "print('\\n Sample Tokens:',sample_tokens)\n",
    "print('\\n Type of Sample Tokens:',type(sample_tokens)) \n",
    "print('\\n Length of Sample Tokens:',len(sample_tokens))\n",
    "sample_freq =FreqDist(sample_tokens)\n",
    "tokens=[]\n",
    "sf=[]\n",
    "for i in sample_freq:\n",
    "    tokens.append(i)\n",
    "    sf.append(sample_freq[i])\n",
    "\n",
    "    df = pd.DataFrame({'Tokens':tokens,'Frequency':sf})\n",
    "print('\\n',df)\n",
    "print('\\n Bigrams:',list(nltk.bigrams(sample_tokens))) \n",
    "print('\\nTrigrams:',list(nltk.trigrams(sample_tokens))) \n",
    "print('\\n Ngrams(4):',list(nltk.ngrams(sample_tokens,4)))\n"
   ]
  },
  {
   "cell_type": "markdown",
   "id": "ae114a48",
   "metadata": {},
   "source": [
    "#### 4.Write a program to Implement PoS tagging using HMM & Neural Model"
   ]
  },
  {
   "cell_type": "code",
   "execution_count": 17,
   "id": "67023cb9",
   "metadata": {},
   "outputs": [
    {
     "name": "stdout",
     "output_type": "stream",
     "text": [
      "[('guru', 'NN'), ('(', '('), ('9', 'CD'), ('is', 'VBZ'), ('one', 'CD'), ('of', 'IN'), ('the', 'DT'), ('best', 'JJS'), ('sites', 'NNS'), ('to', 'TO'), ('learn', 'VB'), ('web', 'NN'), (',', ','), ('sap', 'NN'), (',', ','), ('ethical', 'JJ'), ('hacking', 'NN'), ('and', 'CC'), ('much', 'RB'), ('more', 'JJR'), ('online', 'NN'), ('.', '.')]\n",
      "Counter({'NN': 5, 'CD': 2, ',': 2, '(': 1, 'VBZ': 1, 'IN': 1, 'DT': 1, 'JJS': 1, 'NNS': 1, 'TO': 1, 'VB': 1, 'JJ': 1, 'CC': 1, 'RB': 1, 'JJR': 1, '.': 1})\n"
     ]
    },
    {
     "data": {
      "image/png": "[encoded data removed]",
      "text/plain": [
       "<Figure size 640x480 with 1 Axes>"
      ]
     },
     "metadata": {},
     "output_type": "display_data"
    },
    {
     "data": {
      "image/png": "[encoded data removed]",
      "text/plain": [
       "<Figure size 640x480 with 1 Axes>"
      ]
     },
     "metadata": {},
     "output_type": "display_data"
    },
    {
     "data": {
      "text/plain": [
       "<AxesSubplot:xlabel='Samples', ylabel='Counts'>"
      ]
     },
     "execution_count": 17,
     "metadata": {},
     "output_type": "execute_result"
    }
   ],
   "source": [
    "import nltk\n",
    "from collections import Counter\n",
    "text=\"Guru(9 is one of the best sites to learn WEB,SAP,Ethical Hacking and much more online.\"\n",
    "lower_case=text.lower()\n",
    "tokens=nltk.word_tokenize(lower_case)\n",
    "tags=nltk.pos_tag(tokens) \n",
    "print(tags)\n",
    "counts=Counter(tag for word,tag in tags)\n",
    "###for tag in tags: ###print(tag)\n",
    "print(counts)\n",
    "fd=nltk.FreqDist(tokens)\n",
    "fd.plot()\n",
    "fd1=nltk.FreqDist(counts)\n",
    "fd1.plot()"
   ]
  },
  {
   "cell_type": "markdown",
   "id": "d8e66297",
   "metadata": {},
   "source": [
    "#### 5.Write a program to Implementsyntactic parsing of a given text"
   ]
  },
  {
   "cell_type": "code",
   "execution_count": null,
   "id": "4027f3fb",
   "metadata": {},
   "outputs": [
    {
     "name": "stderr",
     "output_type": "stream",
     "text": [
      "[nltk_data] Downloading package averaged_perceptron_tagger to\n",
      "[nltk_data]     C:\\Users\\91773\\AppData\\Roaming\\nltk_data...\n",
      "[nltk_data]   Package averaged_perceptron_tagger is already up-to-\n",
      "[nltk_data]       date!\n"
     ]
    },
    {
     "name": "stdout",
     "output_type": "stream",
     "text": [
      "(S\n",
      "  Reliance/NNP\n",
      "  Retail/NNP\n",
      "  acquires/VBZ\n",
      "  (NP majority/NN stake/NN)\n",
      "  in/IN\n",
      "  (NP designer/NN brand/NN)\n",
      "  Abraham/NNP\n",
      "  &/CC\n",
      "  Thomson/NNP)\n"
     ]
    }
   ],
   "source": [
    "import nltk\n",
    "nltk.download('averaged_perceptron_tagger')\n",
    "from nltk import pos_tag,word_tokenize,RegexpParser\n",
    "sentence=\"Reliance Retail acquires majority stake in designer brand Abraham & Thomson\"\n",
    "tokens=word_tokenize(sentence)\n",
    "tags=pos_tag(tokens)\n",
    "grammer=\"NP:{<NN>?<DT>*<NN>}\"\n",
    "chunker=RegexpParser(grammer)\n",
    "result=chunker.parse(tags)\n",
    "print(result)\n",
    "result.draw()"
   ]
  },
  {
   "cell_type": "markdown",
   "id": "7a350bb7",
   "metadata": {},
   "source": [
    "#### 6: Write a program to Implement dependency parsing of a given text"
   ]
  },
  {
   "cell_type": "code",
   "execution_count": null,
   "id": "dbd00297",
   "metadata": {},
   "outputs": [],
   "source": [
    "#spacy download en_core_web_sm (install on cmd)\n",
    "import spacy\n",
    "spacy.download('en_core_web_sm')\n",
    "from spacy import displacy\n",
    "nlp = spacy.load(\"en_core_web_sm\")\n",
    "sentence = 'Deemed universitiies charge huge fees' doc=nlp(sentence)\n",
    "print(\"{:<15}|{:<8}|{:<15}|{:<20}\".format('Token','Relation','Head','Children')) print('-'*70)\n",
    "for token in doc:\n",
    "    print(\"{:15}|{:<8}|{:<15}|{:<20}\".format(str(token.text),str(token.dep_),\n",
    "    str(token.head.text),str([child for child in token.children])))\n",
    "    \n",
    "    # Use displacy to visualize the dependency\n",
    "displacy.serve(doc,style='dep',options={'distance':120})"
   ]
  },
  {
   "cell_type": "markdown",
   "id": "99fdc49e",
   "metadata": {},
   "source": [
    "#### 7: Write a program to Implement Named Entity Recognition (NER) "
   ]
  },
  {
   "cell_type": "code",
   "execution_count": null,
   "id": "98847d01",
   "metadata": {},
   "outputs": [],
   "source": [
    "import spacy\n",
    "import pandas as pd\n",
    "from spacy import displacy\n",
    "NER = spacy.load(\"en_core_web_sm\")\n",
    "text = \"Apple acquired zoom-in-China-on-wednesdav-6th May 2020.\\ This news made Apple and Google stock jump by 5% on Dow Jones Indexin -the \\ United Starps of America\"\n",
    "doc = NER(text)\n",
    "entities = [] \n",
    "labels = [] \n",
    "position_start= [] \n",
    "position_end = []\n",
    "for ent in doc.ents:\n",
    "    entities.append(ent)\n",
    "    labels.append(ent.label_)\n",
    "    position_start.append(ent.start_char)\n",
    "    position_end.append(ent.end_char)\n",
    "df = pd.DataFrame({'Entities': entities, 'Labels': labels, 'Position_Start': position_start, 'Position_End':position_end})\n",
    "print(df)\n",
    "displacy.serve(doc, style='dep', options={'distance': 120})\n",
    "displacy.render(doc, style=\"ent\")"
   ]
  },
  {
   "cell_type": "markdown",
   "id": "9975b01b",
   "metadata": {},
   "source": [
    "#### 8: Write a program to Implement Text Summarization for the given sample text"
   ]
  },
  {
   "cell_type": "code",
   "execution_count": null,
   "id": "b9ab08f6",
   "metadata": {},
   "outputs": [],
   "source": [
    "from nltk.tokenize import word_tokenize,sent_tokenize from\n",
    "nltk.corpus import stopwords\n",
    "f = open(\"D:/salma/salma.txt\")\n",
    "text = f.read()\n",
    "words = word_tokenize(text)\n",
    "sents = sent_tokenize(text)\n",
    "stopwords = set(stopwords.words('english'))\n",
    "freqTable = dict()\n",
    "for word in words:\n",
    "    word = word.lower() \n",
    "    if word in stopwords:\n",
    "        continue\n",
    "    elif word in freqTable:\n",
    "        freqTable[word]+=1\n",
    "    else:\n",
    "        freqTable[word]=1\n",
    "\n",
    "        sentValue = dict()\n",
    "for sent in sents:\n",
    "    for word,freq in freqTable.items(): \n",
    "        if word in sent.lower():\n",
    "            if sent in sentValue: \n",
    "                sentValue[sent]+=freq\n",
    "            else:\n",
    "                sentValue[sent]=freq\n",
    "sumValues = 0 \n",
    "for s in sentValue:\n",
    "    sumValues+=sentValue[s] \n",
    "    avg = int(sumValues/len(sents))\n",
    "\n",
    "summary = ''\n",
    "for sent in sents:\n",
    "    if (sent in sentValue) and (sentValue[sent]>1.2*avg):\n",
    "        summary+=''+sent\n",
    "\n",
    "print(summary)"
   ]
  },
  {
   "cell_type": "markdown",
   "id": "ffc1232e",
   "metadata": {},
   "source": [
    "#### 9: Demonstrate the use of NLP in designing Virtual Assistants. Apply LSTM, build conversational Bots."
   ]
  },
  {
   "cell_type": "code",
   "execution_count": null,
   "id": "7dcb5ad2",
   "metadata": {},
   "outputs": [],
   "source": [
    "import nltk\n",
    "from nltk.chat.util import Chat\n",
    "reflections = {\n",
    "\"i am\" : \"you are\",\n",
    "\"i was\" : \"you were\",\n",
    "\"i\" : \"you\",\n",
    "\"i'm\" : \"you are\",\n",
    "\"i'd\" : \"you would\",\n",
    "\"i've\" : \"you have\",\n",
    "\"i'll\" : \"you will\",\n",
    "\"my\" : \"your\",\n",
    "\"you are\" : \"I am\",\n",
    "\"you were\" : \"I was\",\n",
    "\"you've\" : \"I have\",\n",
    "\"you'll\" : \"I will\",\n",
    "    \"your\" : \"my\",\n",
    "\"yours\" : \"mine\",\n",
    "\"you\" : \"me\",\n",
    "\"me\" : \"you\"\n",
    "}\n",
    "pairs = [\n",
    "[\n",
    "r\"my name is (.*)\",\n",
    "[\"Hello %1, How are you today ?\",]\n",
    "],\n",
    "[\n",
    "r\"hi|hey|hello\",\n",
    "[\"Hello\", \"Hey there\",]\n",
    "],\n",
    "[\n",
    "r\"what is your name ?\",\n",
    "[\"I am a bot created by Analytics Vidhya. you can call me crazy!\",]\n",
    "],\n",
    "[\n",
    "r\"how are you ?\",\n",
    "[\"I'm doing goodnHow about You ?\",]\n",
    "],\n",
    "[\n",
    "r\"sorry (.*)\",\n",
    "[\"Its alright\",\"Its OK, never mind\",]\n",
    "],\n",
    "[\n",
    "r\"I am fine\",\n",
    "[\"Great to hear that, How can I help you?\",]\n",
    "    \n",
    "],\n",
    "[\n",
    "r\"i'm (.*) doing good\",\n",
    "[\"Nice to hear that\",\"How can I help you?:)\",]\n",
    "],\n",
    "[\n",
    "r\"(.*) age?\",\n",
    "[\"I'm a computer program dudenSeriously you are asking me this?\",]\n",
    "],\n",
    "[\n",
    "r\"what (.*) want ?\",\n",
    "[\"Make me an offer I can't refuse\",]\n",
    "],\n",
    "[\n",
    "r\"(.*) created ?\",\n",
    "[\"Raghav created me using Python's NLTK library \",\"top secret ;)\",]\n",
    "],\n",
    "[\n",
    "r\"(.*) (location|city) ?\",\n",
    "['Indore, Madhya Pradesh',]\n",
    "],\n",
    "[\n",
    "r\"how is weather in (.*)?\",\n",
    "[\"Weather in %1 is awesome like always\",\"Too hot man here in %1\",\"Too cold man here in %1\",\"Never even heard about %1\"]\n",
    "],\n",
    "[\n",
    "r\"i work in (.*)?\",\n",
    "[\"%1 is an Amazing company, I have heard about it. But they are in huge loss these\n",
    "days.\",]\n",
    "],\n",
    "[\n",
    "r\"(.*)raining in (.*)\",\n",
    "[\"No rain since last week here in %2\",\"Damn its raining too much here in %2\"]\n",
    "],\n",
    "[\n",
    "r\"how (.*) health(.*)\",\n",
    "[\"I'm a computer program, so I'm always healthy \",]\n",
    "],\n",
    "[\n",
    "r\"(.*) (sports|game) ?\",\n",
    "[\"I'm a very big fan of Football\",]\n",
    "],\n",
    "[\n",
    "r\"who (.*) sportsperson ?\",\n",
    "[\"Messy\",\"Ronaldo\",\"Roony\"]\n",
    "],\n",
    "[\n",
    "r\"who (.*) (moviestar|actor)?\",\n",
    "[\"Brad Pitt\"]\n",
    "],\n",
    "[\n",
    "r\"i am looking for online guides and courses to learn data science, can you\n",
    "suggest?\",\n",
    "[\"Crazy_Tech has many great articles with each step explanation along with code, you\n",
    "can explore\"]\n",
    "],\n",
    "[\n",
    "r\"quit\",\n",
    "    [\"BBye take care. See you soon :) \",\"It was nice talking to you. See you soon :)\"]\n",
    "],\n",
    "]\n",
    "def chat():\n",
    "    print(\"Hi! I am a chatbot created by Analytics Vidhya for your service\")\n",
    "    chat = Chat(pairs, reflections)\n",
    "    chat.converse()\n",
    "    \n",
    "#initiate the conversation\n",
    "if name == \" main \":\n",
    "chat()"
   ]
  },
  {
   "cell_type": "code",
   "execution_count": null,
   "id": "31a8268c",
   "metadata": {},
   "outputs": [],
   "source": []
  }
 ],
 "metadata": {
  "kernelspec": {
   "display_name": "Python 3 (ipykernel)",
   "language": "python",
   "name": "python3"
  },
  "language_info": {
   "codemirror_mode": {
    "name": "ipython",
    "version": 3
   },
   "file_extension": ".py",
   "mimetype": "text/x-python",
   "name": "python",
   "nbconvert_exporter": "python",
   "pygments_lexer": "ipython3",
   "version": "3.9.13"
  }
 },
 "nbformat": 4,
 "nbformat_minor": 5
}
